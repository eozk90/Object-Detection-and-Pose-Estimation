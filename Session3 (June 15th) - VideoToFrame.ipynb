{
 "cells": [
  {
   "cell_type": "markdown",
   "metadata": {},
   "source": [
    "Take a video as input and and break the video into frames. You can even play the video in reverse mode. Functions to be used are:\n",
    "- VideoCapture(File_path): Read the video(.mp4 format)\n",
    "- read(): Read data depending upon the type of the object that calls\n",
    "- imwrite(filename, img[, params]): Saves an image to a specified file\n",
    "\n",
    "\n",
    "Field Hockey Goalie Life.mp4"
   ]
  },
  {
   "cell_type": "markdown",
   "metadata": {},
   "source": [
    "## Code example 1"
   ]
  },
  {
   "cell_type": "code",
   "execution_count": 15,
   "metadata": {},
   "outputs": [
    {
     "name": "stdout",
     "output_type": "stream",
     "text": [
      "Requirement already satisfied: opencv-python in /home/efeozkaya/anaconda3/lib/python3.8/site-packages (4.5.1.48)\n",
      "Requirement already satisfied: numpy>=1.17.3 in /home/efeozkaya/anaconda3/lib/python3.8/site-packages (from opencv-python) (1.19.5)\n",
      "Requirement already satisfied: opencv-python in /home/efeozkaya/anaconda3/lib/python3.8/site-packages (4.5.1.48)\n",
      "Requirement already satisfied: numpy>=1.17.3 in /home/efeozkaya/anaconda3/lib/python3.8/site-packages (from opencv-python) (1.19.5)\n",
      "Requirement already satisfied: moviepy in /home/efeozkaya/anaconda3/lib/python3.8/site-packages (1.0.3)\n",
      "Requirement already satisfied: numpy>=1.17.3; python_version != \"2.7\" in /home/efeozkaya/anaconda3/lib/python3.8/site-packages (from moviepy) (1.19.5)\n",
      "Requirement already satisfied: decorator<5.0,>=4.0.2 in /home/efeozkaya/anaconda3/lib/python3.8/site-packages (from moviepy) (4.4.2)\n",
      "Requirement already satisfied: proglog<=1.0.0 in /home/efeozkaya/anaconda3/lib/python3.8/site-packages (from moviepy) (0.1.9)\n",
      "Requirement already satisfied: imageio-ffmpeg>=0.2.0; python_version >= \"3.4\" in /home/efeozkaya/anaconda3/lib/python3.8/site-packages (from moviepy) (0.4.4)\n",
      "Requirement already satisfied: requests<3.0,>=2.8.1 in /home/efeozkaya/anaconda3/lib/python3.8/site-packages (from moviepy) (2.24.0)\n",
      "Requirement already satisfied: imageio<3.0,>=2.5; python_version >= \"3.4\" in /home/efeozkaya/anaconda3/lib/python3.8/site-packages (from moviepy) (2.9.0)\n",
      "Requirement already satisfied: tqdm<5.0,>=4.11.2 in /home/efeozkaya/anaconda3/lib/python3.8/site-packages (from moviepy) (4.46.0)\n",
      "Requirement already satisfied: chardet<4,>=3.0.2 in /home/efeozkaya/anaconda3/lib/python3.8/site-packages (from requests<3.0,>=2.8.1->moviepy) (3.0.4)\n",
      "Requirement already satisfied: certifi>=2017.4.17 in /home/efeozkaya/anaconda3/lib/python3.8/site-packages (from requests<3.0,>=2.8.1->moviepy) (2020.6.20)\n",
      "Requirement already satisfied: idna<3,>=2.5 in /home/efeozkaya/anaconda3/lib/python3.8/site-packages (from requests<3.0,>=2.8.1->moviepy) (2.10)\n",
      "Requirement already satisfied: urllib3!=1.25.0,!=1.25.1,<1.26,>=1.21.1 in /home/efeozkaya/anaconda3/lib/python3.8/site-packages (from requests<3.0,>=2.8.1->moviepy) (1.25.11)\n",
      "Requirement already satisfied: pillow in /home/efeozkaya/anaconda3/lib/python3.8/site-packages (from imageio<3.0,>=2.5; python_version >= \"3.4\"->moviepy) (8.0.1)\n"
     ]
    }
   ],
   "source": [
    "#Install dependencies\n",
    "#!conda install opencv-python\n",
    "!pip install opencv-python #For python 2.x\n",
    "!pip3 install opencv-python #For python 3.x\n",
    "!pip3 install moviepy"
   ]
  },
  {
   "cell_type": "code",
   "execution_count": 18,
   "metadata": {},
   "outputs": [
    {
     "name": "stdout",
     "output_type": "stream",
     "text": [
      "485\n"
     ]
    }
   ],
   "source": [
    "\"\"\"\n",
    "import moviepy\n",
    "import moviepy.editor\n",
    "\n",
    "video = moviepy.editor.VideoFileClip('Field Hockey Goalie Life.mp4')\n",
    "video_duration = int(video.duration)\n",
    "print(video_duration)\n",
    "\n",
    "\"\"\"\n",
    "import moviepy\n",
    "from moviepy import editor\n",
    "video = editor.VideoFileClip('Field Hockey Goalie Life.mp4')\n",
    "video_duration = int(video.duration)\n",
    "print(video_duration)\n"
   ]
  },
  {
   "cell_type": "code",
   "execution_count": 7,
   "metadata": {},
   "outputs": [
    {
     "name": "stdout",
     "output_type": "stream",
     "text": [
      "/home/efeozkaya/Desktop/SummerCodingSessions\r\n"
     ]
    }
   ],
   "source": [
    "!pwd\n",
    "#!dir"
   ]
  },
  {
   "cell_type": "code",
   "execution_count": 19,
   "metadata": {},
   "outputs": [
    {
     "data": {
      "text/plain": [
       "0"
      ]
     },
     "execution_count": 19,
     "metadata": {},
     "output_type": "execute_result"
    }
   ],
   "source": [
    "import subprocess\n",
    "\n",
    "command = 'mkdir Video1Frames'\n",
    "subprocess.call(command, shell=True)"
   ]
  },
  {
   "cell_type": "code",
   "execution_count": 20,
   "metadata": {},
   "outputs": [
    {
     "name": "stdout",
     "output_type": "stream",
     "text": [
      " FieldHockeyGoalie\r\n",
      "'Field Hockey Goalie Life.mp4'\r\n",
      "'Field Hockey Goalkeeper Diving - Goalkeeper Technique  HockeyheroesTV.mp4'\r\n",
      "'Goalie Tutorial How to get up faster  Hockey Heroes TV.mp4'\r\n",
      "'Incredible Field Hockey Saves.mp4'\r\n",
      "'Session3 (June 15th) - VideoToFrame.ipynb'\r\n",
      "'Ultimate Field Hockey Goalkeeper Saves of 2019 Part 1.mp4'\r\n",
      " Video1Frames\r\n"
     ]
    }
   ],
   "source": [
    "!ls\n",
    "#!dir"
   ]
  },
  {
   "cell_type": "code",
   "execution_count": 22,
   "metadata": {},
   "outputs": [
    {
     "name": "stdout",
     "output_type": "stream",
     "text": [
      "1\n",
      "2\n",
      "3\n",
      "4\n",
      "5\n",
      "6\n",
      "7\n",
      "8\n",
      "9\n",
      "Loop ended\n"
     ]
    }
   ],
   "source": [
    "import cv2\n",
    "\n",
    "#Function to extract frames\n",
    "def FrameCapture(path):\n",
    "    #Path to video file\n",
    "    vidObj = cv2.VideoCapture(path)\n",
    "    #Used as counter variable\n",
    "    count = 0\n",
    "    #check whether frames were extracted\n",
    "    success = 1\n",
    "\n",
    "    while success:\n",
    "        #vidObj object calls read\n",
    "        #extract frames\n",
    "        success, image = vidObj.read()\n",
    "\n",
    "        #Save the frames with frame count\n",
    "        cv2.imwrite(\"Video1Frames/video1_frame{}.jpg\".format(count), image)\n",
    "\n",
    "        count += 1\n",
    "\n",
    "        if count == 10:\n",
    "            break\n",
    "\n",
    "        print(count)\n",
    "\n",
    "    print(\"Loop ended\")\n",
    "\n",
    "#FrameCapture('Field Hockey Goalie Life.mp4')\n",
    "#Driver code\n",
    "if __name__ == '__main__':\n",
    "    #Calling the function\n",
    "    FrameCapture('Field Hockey Goalie Life.mp4')"
   ]
  },
  {
   "cell_type": "markdown",
   "metadata": {},
   "source": [
    "## Code Example 2"
   ]
  },
  {
   "cell_type": "code",
   "execution_count": 34,
   "metadata": {},
   "outputs": [
    {
     "name": "stdout",
     "output_type": "stream",
     "text": [
      "True\n",
      "2\n",
      "True\n",
      "3\n",
      "True\n",
      "4\n",
      "True\n",
      "5\n",
      "True\n",
      "6\n",
      "True\n",
      "7\n",
      "True\n",
      "8\n",
      "True\n",
      "9\n",
      "True\n",
      "10\n",
      "True\n",
      "11\n",
      "True\n",
      "12\n",
      "True\n",
      "13\n",
      "True\n",
      "14\n",
      "True\n",
      "15\n"
     ]
    },
    {
     "data": {
      "text/plain": [
       "True"
      ]
     },
     "execution_count": 34,
     "metadata": {},
     "output_type": "execute_result"
    }
   ],
   "source": [
    "import subprocess\n",
    "\n",
    "command = 'mkdir Video2Frames'\n",
    "subprocess.call(command, shell=True)\n",
    "\n",
    "import cv2\n",
    "vidcap = cv2.VideoCapture('Field Hockey Goalie Life.mp4')\n",
    "\n",
    "\n",
    "def getFrame(start,frameRate, termination_value):\n",
    "    hasFrames = 1    \n",
    "    count = 1\n",
    "    while hasFrames:\n",
    "        # capturing to position in msec\n",
    "        vidcap.set(cv2.CAP_PROP_POS_MSEC, start * 1000)\n",
    "        hasFrames, image = vidcap.read()\n",
    "        print(hasFrames)        \n",
    "        \n",
    "        cv2.imwrite(\"Video2Frames/image_{}.jpg\".format(count), image)\n",
    "        count += 1\n",
    "        start += frameRate\n",
    "        start = round(start,2)\n",
    "        print(count)\n",
    "        \n",
    "        if count == termination_value:\n",
    "            break  \n",
    "        \n",
    "    return hasFrames\n",
    "\n",
    "#will capture a frame at every 1 seconds\n",
    "getFrame(start = 10, frameRate =5, termination_value=15)"
   ]
  },
  {
   "cell_type": "code",
   "execution_count": null,
   "metadata": {},
   "outputs": [],
   "source": []
  }
 ],
 "metadata": {
  "kernelspec": {
   "display_name": "Python 3",
   "language": "python",
   "name": "python3"
  },
  "language_info": {
   "codemirror_mode": {
    "name": "ipython",
    "version": 3
   },
   "file_extension": ".py",
   "mimetype": "text/x-python",
   "name": "python",
   "nbconvert_exporter": "python",
   "pygments_lexer": "ipython3",
   "version": "3.8.5"
  }
 },
 "nbformat": 4,
 "nbformat_minor": 4
}
