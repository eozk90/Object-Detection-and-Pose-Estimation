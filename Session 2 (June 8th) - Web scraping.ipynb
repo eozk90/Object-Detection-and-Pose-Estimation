{
 "cells": [
  {
   "cell_type": "markdown",
   "metadata": {},
   "source": [
    "## Image downloading"
   ]
  },
  {
   "cell_type": "markdown",
   "metadata": {},
   "source": [
    "https://pypi.org/project/bing-image-downloader/"
   ]
  },
  {
   "cell_type": "code",
   "execution_count": 1,
   "metadata": {},
   "outputs": [
    {
     "name": "stdout",
     "output_type": "stream",
     "text": [
      "Requirement already satisfied: bing-image-downloader in /home/efeozkaya/anaconda3/lib/python3.8/site-packages (1.1.0)\r\n"
     ]
    }
   ],
   "source": [
    "!pip install bing-image-downloader"
   ]
  },
  {
   "cell_type": "code",
   "execution_count": 4,
   "metadata": {},
   "outputs": [
    {
     "name": "stdout",
     "output_type": "stream",
     "text": [
      "/home/efeozkaya/Desktop\r\n"
     ]
    }
   ],
   "source": [
    "!pwd"
   ]
  },
  {
   "cell_type": "code",
   "execution_count": 9,
   "metadata": {},
   "outputs": [
    {
     "name": "stdout",
     "output_type": "stream",
     "text": [
      "[%] Downloading Images to /home/efeozkaya/Desktop/FieldHockeyGoalie/field hockey goalie\n",
      "\n",
      "\n",
      "[!!]Indexing page: 1\n",
      "\n",
      "[%] Indexed 60 Images on Page 1.\n",
      "\n",
      "===============================================\n",
      "\n",
      "[%] Downloading Image #1 from https://upload.wikimedia.org/wikipedia/commons/5/57/HOCKEY_ARGENTINA_PAKISTAN.jpg\n",
      "[%] File Downloaded !\n",
      "\n",
      "[%] Downloading Image #2 from https://upload.wikimedia.org/wikipedia/commons/thumb/1/15/HOCKEY.jpg/1200px-HOCKEY.jpg\n",
      "[%] File Downloaded !\n",
      "\n",
      "[%] Downloading Image #3 from https://imengine.prod.ntb.infomaker.io/?uuid=ed79775d-c13b-478c-9381-2dfed63c8ad6&amp;function=cover&amp;type=preview&amp;source=false&amp;q=75&amp;width=750\n",
      "[Error]Invalid image, not saving https://imengine.prod.ntb.infomaker.io/?uuid=ed79775d-c13b-478c-9381-2dfed63c8ad6&amp;function=cover&amp;type=preview&amp;source=false&amp;q=75&amp;width=750\n",
      "\n",
      "[!] Issue getting: https://imengine.prod.ntb.infomaker.io/?uuid=ed79775d-c13b-478c-9381-2dfed63c8ad6&amp;function=cover&amp;type=preview&amp;source=false&amp;q=75&amp;width=750\n",
      "[!] Error:: Invalid image, not saving https://imengine.prod.ntb.infomaker.io/?uuid=ed79775d-c13b-478c-9381-2dfed63c8ad6&amp;function=cover&amp;type=preview&amp;source=false&amp;q=75&amp;width=750\n",
      "\n",
      "[%] Downloading Image #3 from https://imengine.prod.ntb.infomaker.io/?uuid=1a5cd3e7-1a54-4504-885f-dd65548f0cc0&amp;function=cover&amp;type=preview&amp;source=false&amp;q=75&amp;width=750\n",
      "[Error]Invalid image, not saving https://imengine.prod.ntb.infomaker.io/?uuid=1a5cd3e7-1a54-4504-885f-dd65548f0cc0&amp;function=cover&amp;type=preview&amp;source=false&amp;q=75&amp;width=750\n",
      "\n",
      "[!] Issue getting: https://imengine.prod.ntb.infomaker.io/?uuid=1a5cd3e7-1a54-4504-885f-dd65548f0cc0&amp;function=cover&amp;type=preview&amp;source=false&amp;q=75&amp;width=750\n",
      "[!] Error:: Invalid image, not saving https://imengine.prod.ntb.infomaker.io/?uuid=1a5cd3e7-1a54-4504-885f-dd65548f0cc0&amp;function=cover&amp;type=preview&amp;source=false&amp;q=75&amp;width=750\n",
      "\n",
      "[%] Downloading Image #3 from https://www.seacoastonline.com/storyimage/SO/20171005/SPORTS/171009652/AR/0/AR-171009652.jpg\n",
      "[%] File Downloaded !\n",
      "\n",
      "[%] Downloading Image #4 from http://cdn.thinglink.me/api/image/639018677215166465/1024/10/scaletowidth/0/0/1/1/false/true?wait=true\n",
      "[%] File Downloaded !\n",
      "\n",
      "[%] Downloading Image #5 from https://imengine.prod.ntb.infomaker.io/?uuid=444908c1-7b2f-5428-9a96-2d71597bdff9&amp;function=thumbnail&amp;type=preview&amp;source=false&amp;q=75&amp;width=600&amp;height=315\n",
      "[Error]Invalid image, not saving https://imengine.prod.ntb.infomaker.io/?uuid=444908c1-7b2f-5428-9a96-2d71597bdff9&amp;function=thumbnail&amp;type=preview&amp;source=false&amp;q=75&amp;width=600&amp;height=315\n",
      "\n",
      "[!] Issue getting: https://imengine.prod.ntb.infomaker.io/?uuid=444908c1-7b2f-5428-9a96-2d71597bdff9&amp;function=thumbnail&amp;type=preview&amp;source=false&amp;q=75&amp;width=600&amp;height=315\n",
      "[!] Error:: Invalid image, not saving https://imengine.prod.ntb.infomaker.io/?uuid=444908c1-7b2f-5428-9a96-2d71597bdff9&amp;function=thumbnail&amp;type=preview&amp;source=false&amp;q=75&amp;width=600&amp;height=315\n",
      "\n",
      "[%] Downloading Image #5 from https://cdn.thinglink.me/api/image/505467635392053248/1024/10/scaletowidth/0/0/1/1/false/true?wait=true\n",
      "[%] File Downloaded !\n",
      "\n",
      "[%] Downloading Image #6 from https://thumbs.dreamstime.com/b/youth-field-hockey-competition-russian-championship-october-team-ekaterinburg-vs-team-rostov-region-61351061.jpg\n",
      "[%] File Downloaded !\n",
      "\n",
      "[%] Downloading Image #7 from https://thumbs.dreamstime.com/b/youth-field-hockey-competition-russian-championship-october-team-ekaterinburg-vs-team-rostov-region-61352850.jpg\n",
      "[%] File Downloaded !\n",
      "\n",
      "[%] Downloading Image #8 from https://imengine.prod.ntb.infomaker.io/?uuid=b590071c-437d-481e-a19f-eff9d46f692e&amp;function=cover&amp;type=preview&amp;source=false&amp;q=75&amp;width=750\n",
      "[Error]Invalid image, not saving https://imengine.prod.ntb.infomaker.io/?uuid=b590071c-437d-481e-a19f-eff9d46f692e&amp;function=cover&amp;type=preview&amp;source=false&amp;q=75&amp;width=750\n",
      "\n",
      "[!] Issue getting: https://imengine.prod.ntb.infomaker.io/?uuid=b590071c-437d-481e-a19f-eff9d46f692e&amp;function=cover&amp;type=preview&amp;source=false&amp;q=75&amp;width=750\n",
      "[!] Error:: Invalid image, not saving https://imengine.prod.ntb.infomaker.io/?uuid=b590071c-437d-481e-a19f-eff9d46f692e&amp;function=cover&amp;type=preview&amp;source=false&amp;q=75&amp;width=750\n",
      "\n",
      "[%] Downloading Image #8 from https://imengine.prod.ntb.infomaker.io/?uuid=a9c4449b-eb8e-4f1f-a255-5f0f1f0f0043&amp;function=cover&amp;type=preview&amp;source=false&amp;q=75&amp;width=750\n",
      "[Error]Invalid image, not saving https://imengine.prod.ntb.infomaker.io/?uuid=a9c4449b-eb8e-4f1f-a255-5f0f1f0f0043&amp;function=cover&amp;type=preview&amp;source=false&amp;q=75&amp;width=750\n",
      "\n",
      "[!] Issue getting: https://imengine.prod.ntb.infomaker.io/?uuid=a9c4449b-eb8e-4f1f-a255-5f0f1f0f0043&amp;function=cover&amp;type=preview&amp;source=false&amp;q=75&amp;width=750\n",
      "[!] Error:: Invalid image, not saving https://imengine.prod.ntb.infomaker.io/?uuid=a9c4449b-eb8e-4f1f-a255-5f0f1f0f0043&amp;function=cover&amp;type=preview&amp;source=false&amp;q=75&amp;width=750\n",
      "\n",
      "[%] Downloading Image #8 from https://imengine.prod.ntb.infomaker.io/?uuid=4240016e-be33-4425-85f2-b7f9edaa11a1&amp;function=cover&amp;type=preview&amp;source=false&amp;q=75&amp;width=750\n",
      "[Error]Invalid image, not saving https://imengine.prod.ntb.infomaker.io/?uuid=4240016e-be33-4425-85f2-b7f9edaa11a1&amp;function=cover&amp;type=preview&amp;source=false&amp;q=75&amp;width=750\n",
      "\n",
      "[!] Issue getting: https://imengine.prod.ntb.infomaker.io/?uuid=4240016e-be33-4425-85f2-b7f9edaa11a1&amp;function=cover&amp;type=preview&amp;source=false&amp;q=75&amp;width=750\n",
      "[!] Error:: Invalid image, not saving https://imengine.prod.ntb.infomaker.io/?uuid=4240016e-be33-4425-85f2-b7f9edaa11a1&amp;function=cover&amp;type=preview&amp;source=false&amp;q=75&amp;width=750\n",
      "\n",
      "[%] Downloading Image #8 from https://thumbs.dreamstime.com/b/hockey-competition-vila-praia-de-ancora-portugal-may-match-adj-vila-praia-gulpilhares-against-nd-national-92583524.jpg\n",
      "[%] File Downloaded !\n",
      "\n",
      "[%] Downloading Image #9 from https://pbs.twimg.com/media/DFwLa7QVwAMmiKE.jpg\n",
      "[%] File Downloaded !\n",
      "\n",
      "[%] Downloading Image #10 from https://thumbs.dreamstime.com/b/youth-boys-hockey-tournament-team-celebrating-their-victory-112135085.jpg\n",
      "[%] File Downloaded !\n",
      "\n",
      "[%] Downloading Image #11 from https://thumbs.dreamstime.com/b/hockey-show-closing-ceremony-championship-moscow-apr-season-ice-sports-school-junior-teams-teams-30983511.jpg\n",
      "[%] File Downloaded !\n",
      "\n",
      "[%] Downloading Image #12 from https://thumbs.dreamstime.com/b/hockey-goalie-gate-children-s-ice-team-russia-72146003.jpg\n",
      "[%] File Downloaded !\n",
      "\n",
      "[%] Downloading Image #13 from https://media.ktoo.org/2013/11/JDHS-hockey-21-736x452.jpg\n",
      "[%] File Downloaded !\n",
      "\n",
      "[%] Downloading Image #14 from https://i.pinimg.com/originals/1b/a4/04/1ba40495818c675f591d0a87fd8833dc.jpg\n",
      "[%] File Downloaded !\n",
      "\n",
      "[%] Downloading Image #15 from https://i.pinimg.com/originals/09/ac/2f/09ac2f9c25bfbac2fa94a2976b603050.jpg\n",
      "[%] File Downloaded !\n",
      "\n",
      "[%] Downloading Image #16 from https://laxgoalierat.com/wp-content/uploads/2017/03/FemaleLacrosseGoalieStickSetups.jpg\n",
      "[%] File Downloaded !\n",
      "\n",
      "[%] Downloading Image #17 from https://pbs.twimg.com/media/Cc--_iDUYAAzbmF.jpg\n",
      "[%] File Downloaded !\n",
      "\n",
      "[%] Downloading Image #18 from https://thumbs.dreamstime.com/b/american-youth-baseball-player-running-field-121708272.jpg\n",
      "[%] File Downloaded !\n",
      "\n",
      "[%] Downloading Image #19 from https://upload.wikimedia.org/wikipedia/commons/4/4b/Keep.jpg\n",
      "[%] File Downloaded !\n",
      "\n",
      "[%] Downloading Image #20 from https://i.pinimg.com/236x/50/35/25/5035253a515d991479e71ba8c2f94ca0--field-hockey-quotes-sport-quotes.jpg\n",
      "[%] File Downloaded !\n",
      "\n",
      "[%] Downloading Image #21 from https://www.sportsastoldbyagirl.com/wp-content/uploads/2016/09/HenrikLundqvistCalgaryFlamesvNewYorkAlUUQ0q-7W_l.jpg\n",
      "[%] File Downloaded !\n",
      "\n",
      "[%] Downloading Image #22 from https://thumbs.dreamstime.com/b/female-fighters-compete-fight-moscow-jun-th-team-championship-europe-karate-olympi-comlex-luzhniki-small-sports-31543188.jpg\n",
      "[%] File Downloaded !\n",
      "\n",
      "[%] Downloading Image #23 from https://i.pinimg.com/originals/ce/94/7c/ce947c3273b70beeac50663c623d84bd.jpg\n"
     ]
    },
    {
     "name": "stdout",
     "output_type": "stream",
     "text": [
      "[%] File Downloaded !\n",
      "\n",
      "[%] Downloading Image #24 from https://i.pinimg.com/originals/36/84/fd/3684fd2f356661fa22da39d9ddff7ddb.jpg\n",
      "[%] File Downloaded !\n",
      "\n",
      "[%] Downloading Image #25 from https://www.cp24.com/polopoly_fs/1.3739728.1514596096!/httpImage/image.jpg_gen/derivatives/landscape_960/image.jpg\n",
      "[%] File Downloaded !\n",
      "\n",
      "[%] Downloading Image #26 from https://i.pinimg.com/originals/b1/7c/ba/b17cbab95165e587475c3b21191f0e4f.jpg\n",
      "[%] File Downloaded !\n",
      "\n",
      "[%] Downloading Image #27 from https://gumlet.assettype.com/netindian%2F2020-08%2Fc1f2ac3e-e4ba-496b-b1b8-ec4d7133c663%2FVR_Raghunath.webp?rect=107%2C0%2C1568%2C823&amp;w=1200&amp;auto=format%2Ccompress&amp;ogImage=true\n",
      "[Error]Invalid image, not saving https://gumlet.assettype.com/netindian%2F2020-08%2Fc1f2ac3e-e4ba-496b-b1b8-ec4d7133c663%2FVR_Raghunath.webp?rect=107%2C0%2C1568%2C823&amp;w=1200&amp;auto=format%2Ccompress&amp;ogImage=true\n",
      "\n",
      "[!] Issue getting: https://gumlet.assettype.com/netindian%2F2020-08%2Fc1f2ac3e-e4ba-496b-b1b8-ec4d7133c663%2FVR_Raghunath.webp?rect=107%2C0%2C1568%2C823&amp;w=1200&amp;auto=format%2Ccompress&amp;ogImage=true\n",
      "[!] Error:: Invalid image, not saving https://gumlet.assettype.com/netindian%2F2020-08%2Fc1f2ac3e-e4ba-496b-b1b8-ec4d7133c663%2FVR_Raghunath.webp?rect=107%2C0%2C1568%2C823&amp;w=1200&amp;auto=format%2Ccompress&amp;ogImage=true\n",
      "\n",
      "[%] Downloading Image #27 from https://ss-static-01.esmsv.com/id/30201/productos/obtenerimagen/?id=11975&amp;useDensity=false&amp;width=1280&amp;height=720&amp;tipoEscala=contain\n",
      "[%] File Downloaded !\n",
      "\n",
      "[%] Downloading Image #28 from https://i.pinimg.com/originals/b3/e2/c7/b3e2c7cdb97e23ac2c16038d128c49eb.jpg\n",
      "[%] File Downloaded !\n",
      "\n",
      "[%] Downloading Image #29 from https://res.cloudinary.com/teepublic/image/private/s--EWqke4Pm--/c_crop,x_10,y_10/c_fit,w_924/c_crop,g_north_west,h_1260,w_1050,x_-63,y_-76/co_rgb:000000,e_colorize,u_Misc:One Pixel Gray/c_scale,g_north_west,h_1260,w_1050/fl_layer_apply,g_north_west,x_-63,y_-76/bo_126px_solid_white/e_overlay,fl_layer_apply,h_1260,l_Misc:Art Print Bumpmap,w_1050/e_shadow,x_6,y_6/c_limit,h_1134,w_1134/c_lpad,g_center,h_1260,w_1260/t_watermark_lock/b_rgb:eeeeee/c_limit,f_jpg,h_630,q_90,w_630/v1597683721/production/designs/13157086_0.jpg\n",
      "[!] Issue getting: https://res.cloudinary.com/teepublic/image/private/s--EWqke4Pm--/c_crop,x_10,y_10/c_fit,w_924/c_crop,g_north_west,h_1260,w_1050,x_-63,y_-76/co_rgb:000000,e_colorize,u_Misc:One Pixel Gray/c_scale,g_north_west,h_1260,w_1050/fl_layer_apply,g_north_west,x_-63,y_-76/bo_126px_solid_white/e_overlay,fl_layer_apply,h_1260,l_Misc:Art Print Bumpmap,w_1050/e_shadow,x_6,y_6/c_limit,h_1134,w_1134/c_lpad,g_center,h_1260,w_1260/t_watermark_lock/b_rgb:eeeeee/c_limit,f_jpg,h_630,q_90,w_630/v1597683721/production/designs/13157086_0.jpg\n",
      "[!] Error:: URL can't contain control characters. '/teepublic/image/private/s--EWqke4Pm--/c_crop,x_10,y_10/c_fit,w_924/c_crop,g_north_west,h_1260,w_1050,x_-63,y_-76/co_rgb:000000,e_colorize,u_Misc:One Pixel Gray/c_scale,g_north_west,h_1260,w_1050/fl_layer_apply,g_north_west,x_-63,y_-76/bo_126px_solid_white/e_overlay,fl_layer_apply,h_1260,l_Misc:Art Print Bumpmap,w_1050/e_shadow,x_6,y_6/c_limit,h_1134,w_1134/c_lpad,g_center,h_1260,w_1260/t_watermark_lock/b_rgb:eeeeee/c_limit,f_jpg,h_630,q_90,w_630/v1597683721/production/designs/13157086_0.jpg' (found at least ' ')\n",
      "[%] Downloading Image #29 from http://www.iha.org.au/wp-content/uploads/2020/08/Goalie-Symposium.jpg\n",
      "[%] File Downloaded !\n",
      "\n",
      "[%] Downloading Image #30 from https://pbs.twimg.com/media/BKtBWclCAAAm8S-.png\n",
      "[%] File Downloaded !\n",
      "\n",
      "[%] Downloading Image #31 from https://res.cloudinary.com/teepublic/image/private/s--SE5V32YD--/t_Preview/t_watermark_lock/b_rgb:191919,c_lpad,f_jpg,h_630,q_90,w_1200/v1594775939/production/designs/12212102_0.jpg\n",
      "[%] File Downloaded !\n",
      "\n",
      "[%] Downloading Image #32 from https://i.pinimg.com/originals/53/b5/3b/53b53b86550606a3828770bbdde9d0d1.jpg\n",
      "[%] File Downloaded !\n",
      "\n",
      "[%] Downloading Image #33 from https://i.pinimg.com/originals/44/6f/b2/446fb2892436f9e6392d02e276ed2658.jpg\n",
      "[%] File Downloaded !\n",
      "\n",
      "[%] Downloading Image #34 from https://res.cloudinary.com/teepublic/image/private/s---b8ZgXwM--/t_Preview/b_rgb:191919,c_limit,f_auto,h_630,q_90,w_630/v1543613132/production/designs/3620292_0.jpg\n",
      "[%] File Downloaded !\n",
      "\n",
      "[%] Downloading Image #35 from https://res.cloudinary.com/teepublic/image/private/s--IvTvgl6A--/t_Resized Artwork/c_fit,g_north_west,h_954,w_954/co_000000,e_outline:48/co_000000,e_outline:inner_fill:48/co_ffffff,e_outline:48/co_ffffff,e_outline:inner_fill:48/co_bbbbbb,e_outline:3:1000/c_mpad,g_center,h_1260,w_1260/b_rgb:eeeeee/c_limit,f_auto,h_630,q_90,w_630/v1594668312/production/designs/12180676_0.jpg\n",
      "[!] Issue getting: https://res.cloudinary.com/teepublic/image/private/s--IvTvgl6A--/t_Resized Artwork/c_fit,g_north_west,h_954,w_954/co_000000,e_outline:48/co_000000,e_outline:inner_fill:48/co_ffffff,e_outline:48/co_ffffff,e_outline:inner_fill:48/co_bbbbbb,e_outline:3:1000/c_mpad,g_center,h_1260,w_1260/b_rgb:eeeeee/c_limit,f_auto,h_630,q_90,w_630/v1594668312/production/designs/12180676_0.jpg\n",
      "[!] Error:: URL can't contain control characters. '/teepublic/image/private/s--IvTvgl6A--/t_Resized Artwork/c_fit,g_north_west,h_954,w_954/co_000000,e_outline:48/co_000000,e_outline:inner_fill:48/co_ffffff,e_outline:48/co_ffffff,e_outline:inner_fill:48/co_bbbbbb,e_outline:3:1000/c_mpad,g_center,h_1260,w_1260/b_rgb:eeeeee/c_limit,f_auto,h_630,q_90,w_630/v1594668312/production/designs/12180676_0.jpg' (found at least ' ')\n",
      "[%] Downloading Image #35 from https://res.cloudinary.com/teepublic/image/private/s--wROwyjcU--/t_Preview/t_watermark_lock/b_rgb:ffffff,c_limit,f_auto,h_630,q_90,w_630/v1575992062/production/designs/3549337_2.jpg\n",
      "[%] File Downloaded !\n",
      "\n",
      "[%] Downloading Image #36 from https://res.cloudinary.com/teepublic/image/private/s--vYlJMMco--/c_crop,x_10,y_10/c_fit,h_1109/c_crop,g_north_west,h_1260,w_1260,x_-136,y_-76/co_rgb:0195c3,e_colorize,u_Misc:One Pixel Gray/c_scale,g_north_west,h_1260,w_1260/fl_layer_apply,g_north_west,x_-136,y_-76/bo_126px_solid_white/e_overlay,fl_layer_apply,h_1260,l_Misc:Art Print Bumpmap,w_1260/e_shadow,x_6,y_6/c_limit,h_1134,w_1134/c_lpad,g_center,h_1260,w_1260/t_watermark_lock/b_rgb:eeeeee/c_limit,f_jpg,h_630,q_90,w_630/v1508990101/production/designs/2001128_1.jpg\n",
      "[!] Issue getting: https://res.cloudinary.com/teepublic/image/private/s--vYlJMMco--/c_crop,x_10,y_10/c_fit,h_1109/c_crop,g_north_west,h_1260,w_1260,x_-136,y_-76/co_rgb:0195c3,e_colorize,u_Misc:One Pixel Gray/c_scale,g_north_west,h_1260,w_1260/fl_layer_apply,g_north_west,x_-136,y_-76/bo_126px_solid_white/e_overlay,fl_layer_apply,h_1260,l_Misc:Art Print Bumpmap,w_1260/e_shadow,x_6,y_6/c_limit,h_1134,w_1134/c_lpad,g_center,h_1260,w_1260/t_watermark_lock/b_rgb:eeeeee/c_limit,f_jpg,h_630,q_90,w_630/v1508990101/production/designs/2001128_1.jpg\n",
      "[!] Error:: URL can't contain control characters. '/teepublic/image/private/s--vYlJMMco--/c_crop,x_10,y_10/c_fit,h_1109/c_crop,g_north_west,h_1260,w_1260,x_-136,y_-76/co_rgb:0195c3,e_colorize,u_Misc:One Pixel Gray/c_scale,g_north_west,h_1260,w_1260/fl_layer_apply,g_north_west,x_-136,y_-76/bo_126px_solid_white/e_overlay,fl_layer_apply,h_1260,l_Misc:Art Print Bumpmap,w_1260/e_shadow,x_6,y_6/c_limit,h_1134,w_1134/c_lpad,g_center,h_1260,w_1260/t_watermark_lock/b_rgb:eeeeee/c_limit,f_jpg,h_630,q_90,w_630/v1508990101/production/designs/2001128_1.jpg' (found at least ' ')\n",
      "[%] Downloading Image #36 from https://ccmhockey.com/sites/default/files/styles/view_thumbnail/public/capture.jpg?itok=n7PF5Sx2\n",
      "[!] Issue getting: https://ccmhockey.com/sites/default/files/styles/view_thumbnail/public/capture.jpg?itok=n7PF5Sx2\n",
      "[!] Error:: <urlopen error [SSL: CERTIFICATE_VERIFY_FAILED] certificate verify failed: unable to get local issuer certificate (_ssl.c:1123)>\n",
      "[%] Downloading Image #36 from https://res.cloudinary.com/teepublic/image/private/s--Ec4aUpiP--/t_Resized Artwork/c_fit,g_north_west,h_954,w_954/co_000000,e_outline:48/co_000000,e_outline:inner_fill:48/co_ffffff,e_outline:48/co_ffffff,e_outline:inner_fill:48/co_bbbbbb,e_outline:3:1000/c_mpad,g_center,h_1260,w_1260/b_rgb:eeeeee/t_watermark_lock/c_limit,f_auto,h_630,q_90,w_630/v1593587369/production/designs/11825277_0.jpg\n",
      "[!] Issue getting: https://res.cloudinary.com/teepublic/image/private/s--Ec4aUpiP--/t_Resized Artwork/c_fit,g_north_west,h_954,w_954/co_000000,e_outline:48/co_000000,e_outline:inner_fill:48/co_ffffff,e_outline:48/co_ffffff,e_outline:inner_fill:48/co_bbbbbb,e_outline:3:1000/c_mpad,g_center,h_1260,w_1260/b_rgb:eeeeee/t_watermark_lock/c_limit,f_auto,h_630,q_90,w_630/v1593587369/production/designs/11825277_0.jpg\n",
      "[!] Error:: URL can't contain control characters. '/teepublic/image/private/s--Ec4aUpiP--/t_Resized Artwork/c_fit,g_north_west,h_954,w_954/co_000000,e_outline:48/co_000000,e_outline:inner_fill:48/co_ffffff,e_outline:48/co_ffffff,e_outline:inner_fill:48/co_bbbbbb,e_outline:3:1000/c_mpad,g_center,h_1260,w_1260/b_rgb:eeeeee/t_watermark_lock/c_limit,f_auto,h_630,q_90,w_630/v1593587369/production/designs/11825277_0.jpg' (found at least ' ')\n",
      "[%] Downloading Image #36 from https://res.cloudinary.com/teepublic/image/private/s--NETFj4wN--/t_Resized Artwork/c_crop,x_10,y_10/c_fit,w_409/c_crop,g_north_west,h_544,w_409,x_0,y_0/g_north_west,u_upload:v1561483906:production:blanks:nvgy11lefnvjtfxu6kaw,x_-428,y_-347/b_rgb:eeeeee/c_limit,f_auto,h_630,q_90,w_630/v1543616638/production/designs/3620727_0.jpg\n",
      "[!] Issue getting: https://res.cloudinary.com/teepublic/image/private/s--NETFj4wN--/t_Resized Artwork/c_crop,x_10,y_10/c_fit,w_409/c_crop,g_north_west,h_544,w_409,x_0,y_0/g_north_west,u_upload:v1561483906:production:blanks:nvgy11lefnvjtfxu6kaw,x_-428,y_-347/b_rgb:eeeeee/c_limit,f_auto,h_630,q_90,w_630/v1543616638/production/designs/3620727_0.jpg\n",
      "[!] Error:: URL can't contain control characters. '/teepublic/image/private/s--NETFj4wN--/t_Resized Artwork/c_crop,x_10,y_10/c_fit,w_409/c_crop,g_north_west,h_544,w_409,x_0,y_0/g_north_west,u_upload:v1561483906:production:blanks:nvgy11lefnvjtfxu6kaw,x_-428,y_-347/b_rgb:eeeeee/c_limit,f_auto,h_630,q_90,w_630/v1543616638/production/designs/3620727_0.jpg' (found at least ' ')\n",
      "[%] Downloading Image #36 from https://res.cloudinary.com/teepublic/image/private/s--qVC0_R3Z--/t_Resized Artwork/c_crop,x_10,y_10/c_fit,w_292/c_crop,g_north_west,h_389,w_292,x_0,y_0/g_north_west,u_upload:v1457730363:production:blanks:sixjuikxrsgkogzk0hc7,x_-495,y_-307/b_rgb:eeeeee/c_limit,f_auto,h_630,q_90,w_630/v1594775939/production/designs/12212102_0.jpg\n",
      "[!] Issue getting: https://res.cloudinary.com/teepublic/image/private/s--qVC0_R3Z--/t_Resized Artwork/c_crop,x_10,y_10/c_fit,w_292/c_crop,g_north_west,h_389,w_292,x_0,y_0/g_north_west,u_upload:v1457730363:production:blanks:sixjuikxrsgkogzk0hc7,x_-495,y_-307/b_rgb:eeeeee/c_limit,f_auto,h_630,q_90,w_630/v1594775939/production/designs/12212102_0.jpg\n",
      "[!] Error:: URL can't contain control characters. '/teepublic/image/private/s--qVC0_R3Z--/t_Resized Artwork/c_crop,x_10,y_10/c_fit,w_292/c_crop,g_north_west,h_389,w_292,x_0,y_0/g_north_west,u_upload:v1457730363:production:blanks:sixjuikxrsgkogzk0hc7,x_-495,y_-307/b_rgb:eeeeee/c_limit,f_auto,h_630,q_90,w_630/v1594775939/production/designs/12212102_0.jpg' (found at least ' ')\n",
      "[%] Downloading Image #36 from http://www.euttarakhand.com/wp-content/uploads/2016/05/Negi.jpg\n"
     ]
    },
    {
     "name": "stdout",
     "output_type": "stream",
     "text": [
      "[%] File Downloaded !\n",
      "\n",
      "[%] Downloading Image #37 from https://media.ktoo.org/2013/11/JDHS-hockey-3.jpg\n",
      "[%] File Downloaded !\n",
      "\n",
      "[%] Downloading Image #38 from https://www.worthingtonspotlight.com/wp-content/uploads/2020/11/WO-no-6-or-8-and-goalie-Scarlet-Oakes-scaled-1.jpg\n",
      "[%] File Downloaded !\n",
      "\n",
      "[%] Downloading Image #39 from https://res.cloudinary.com/teepublic/image/private/s--_Ah45eGp--/t_Preview/t_watermark_lock/b_rgb:191919,c_lpad,f_jpg,h_630,q_90,w_1200/v1562743360/production/designs/5278392_0.jpg\n",
      "[%] File Downloaded !\n",
      "\n",
      "[%] Downloading Image #40 from https://res.cloudinary.com/teepublic/image/private/s--dC85gGum--/t_Preview/b_rgb:191919,c_limit,f_jpg,h_630,q_90,w_630/v1543614131/production/designs/3620362_0.jpg\n",
      "[%] File Downloaded !\n",
      "\n",
      "[%] Downloading Image #41 from https://res.cloudinary.com/teepublic/image/private/s--IgQgFf-v--/t_Preview/t_watermark_lock/b_rgb:000000,c_limit,f_auto,h_630,q_90,w_630/v1562743360/production/designs/5278392_0.jpg\n",
      "[%] File Downloaded !\n",
      "\n",
      "[%] Downloading Image #42 from https://n2.sdlcdn.com/imgs/h/h/g/Ritual-Specialist-25-Hockey-Stick-SDL025326679-1-f12df.jpeg\n",
      "[%] File Downloaded !\n",
      "\n",
      "[%] Downloading Image #43 from https://cdn.shopify.com/s/files/1/0561/8829/products/STX_Stallion_600_Field_Hockey_Stick_1024x.jpg?v=1534024604\n",
      "[%] File Downloaded !\n",
      "\n",
      "[%] Downloading Image #44 from https://www.ontbluecoast.com/media/GB_Beach_Hockey_Final.jpg\n",
      "[%] File Downloaded !\n",
      "\n",
      "[%] Downloading Image #45 from https://pbs.twimg.com/media/DFVpx1IXUAAwsV-.jpg\n",
      "[%] File Downloaded !\n",
      "\n",
      "[%] Downloading Image #46 from https://www.todohockey.com.ar/productos/obtenerimagen/?id=10783&amp;useDensity=false&amp;width=1280&amp;height=720&amp;tipoEscala=contain\n",
      "[%] File Downloaded !\n",
      "\n",
      "\n",
      "\n",
      "[!!]Indexing page: 2\n",
      "\n",
      "[%] Indexed 35 Images on Page 2.\n",
      "\n",
      "===============================================\n",
      "\n",
      "[%] Downloading Image #47 from https://upload.wikimedia.org/wikipedia/commons/5/57/HOCKEY_ARGENTINA_PAKISTAN.jpg\n",
      "[%] File Downloaded !\n",
      "\n",
      "[%] Downloading Image #48 from https://upload.wikimedia.org/wikipedia/commons/thumb/1/15/HOCKEY.jpg/1200px-HOCKEY.jpg\n",
      "[%] File Downloaded !\n",
      "\n",
      "[%] Downloading Image #49 from https://imengine.prod.ntb.infomaker.io/?uuid=ed79775d-c13b-478c-9381-2dfed63c8ad6&amp;function=cover&amp;type=preview&amp;source=false&amp;q=75&amp;width=750\n",
      "[Error]Invalid image, not saving https://imengine.prod.ntb.infomaker.io/?uuid=ed79775d-c13b-478c-9381-2dfed63c8ad6&amp;function=cover&amp;type=preview&amp;source=false&amp;q=75&amp;width=750\n",
      "\n",
      "[!] Issue getting: https://imengine.prod.ntb.infomaker.io/?uuid=ed79775d-c13b-478c-9381-2dfed63c8ad6&amp;function=cover&amp;type=preview&amp;source=false&amp;q=75&amp;width=750\n",
      "[!] Error:: Invalid image, not saving https://imengine.prod.ntb.infomaker.io/?uuid=ed79775d-c13b-478c-9381-2dfed63c8ad6&amp;function=cover&amp;type=preview&amp;source=false&amp;q=75&amp;width=750\n",
      "\n",
      "[%] Downloading Image #49 from https://imengine.prod.ntb.infomaker.io/?uuid=1a5cd3e7-1a54-4504-885f-dd65548f0cc0&amp;function=cover&amp;type=preview&amp;source=false&amp;q=75&amp;width=750\n",
      "[Error]Invalid image, not saving https://imengine.prod.ntb.infomaker.io/?uuid=1a5cd3e7-1a54-4504-885f-dd65548f0cc0&amp;function=cover&amp;type=preview&amp;source=false&amp;q=75&amp;width=750\n",
      "\n",
      "[!] Issue getting: https://imengine.prod.ntb.infomaker.io/?uuid=1a5cd3e7-1a54-4504-885f-dd65548f0cc0&amp;function=cover&amp;type=preview&amp;source=false&amp;q=75&amp;width=750\n",
      "[!] Error:: Invalid image, not saving https://imengine.prod.ntb.infomaker.io/?uuid=1a5cd3e7-1a54-4504-885f-dd65548f0cc0&amp;function=cover&amp;type=preview&amp;source=false&amp;q=75&amp;width=750\n",
      "\n",
      "[%] Downloading Image #49 from https://www.seacoastonline.com/storyimage/SO/20171005/SPORTS/171009652/AR/0/AR-171009652.jpg\n",
      "[%] File Downloaded !\n",
      "\n",
      "[%] Downloading Image #50 from http://cdn.thinglink.me/api/image/639018677215166465/1024/10/scaletowidth/0/0/1/1/false/true?wait=true\n",
      "[%] File Downloaded !\n",
      "\n",
      "[%] Downloading Image #51 from https://imengine.prod.ntb.infomaker.io/?uuid=444908c1-7b2f-5428-9a96-2d71597bdff9&amp;function=thumbnail&amp;type=preview&amp;source=false&amp;q=75&amp;width=600&amp;height=315\n",
      "[Error]Invalid image, not saving https://imengine.prod.ntb.infomaker.io/?uuid=444908c1-7b2f-5428-9a96-2d71597bdff9&amp;function=thumbnail&amp;type=preview&amp;source=false&amp;q=75&amp;width=600&amp;height=315\n",
      "\n",
      "[!] Issue getting: https://imengine.prod.ntb.infomaker.io/?uuid=444908c1-7b2f-5428-9a96-2d71597bdff9&amp;function=thumbnail&amp;type=preview&amp;source=false&amp;q=75&amp;width=600&amp;height=315\n",
      "[!] Error:: Invalid image, not saving https://imengine.prod.ntb.infomaker.io/?uuid=444908c1-7b2f-5428-9a96-2d71597bdff9&amp;function=thumbnail&amp;type=preview&amp;source=false&amp;q=75&amp;width=600&amp;height=315\n",
      "\n",
      "[%] Downloading Image #51 from https://cdn.thinglink.me/api/image/505467635392053248/1024/10/scaletowidth/0/0/1/1/false/true?wait=true\n",
      "[%] File Downloaded !\n",
      "\n",
      "[%] Downloading Image #52 from https://thumbs.dreamstime.com/b/youth-field-hockey-competition-russian-championship-october-team-ekaterinburg-vs-team-rostov-region-61351061.jpg\n",
      "[%] File Downloaded !\n",
      "\n",
      "[%] Downloading Image #53 from https://thumbs.dreamstime.com/b/youth-field-hockey-competition-russian-championship-october-team-ekaterinburg-vs-team-rostov-region-61352850.jpg\n",
      "[%] File Downloaded !\n",
      "\n",
      "[%] Downloading Image #54 from https://imengine.prod.ntb.infomaker.io/?uuid=b590071c-437d-481e-a19f-eff9d46f692e&amp;function=cover&amp;type=preview&amp;source=false&amp;q=75&amp;width=750\n",
      "[Error]Invalid image, not saving https://imengine.prod.ntb.infomaker.io/?uuid=b590071c-437d-481e-a19f-eff9d46f692e&amp;function=cover&amp;type=preview&amp;source=false&amp;q=75&amp;width=750\n",
      "\n",
      "[!] Issue getting: https://imengine.prod.ntb.infomaker.io/?uuid=b590071c-437d-481e-a19f-eff9d46f692e&amp;function=cover&amp;type=preview&amp;source=false&amp;q=75&amp;width=750\n",
      "[!] Error:: Invalid image, not saving https://imengine.prod.ntb.infomaker.io/?uuid=b590071c-437d-481e-a19f-eff9d46f692e&amp;function=cover&amp;type=preview&amp;source=false&amp;q=75&amp;width=750\n",
      "\n",
      "[%] Downloading Image #54 from https://imengine.prod.ntb.infomaker.io/?uuid=a9c4449b-eb8e-4f1f-a255-5f0f1f0f0043&amp;function=cover&amp;type=preview&amp;source=false&amp;q=75&amp;width=750\n",
      "[Error]Invalid image, not saving https://imengine.prod.ntb.infomaker.io/?uuid=a9c4449b-eb8e-4f1f-a255-5f0f1f0f0043&amp;function=cover&amp;type=preview&amp;source=false&amp;q=75&amp;width=750\n",
      "\n",
      "[!] Issue getting: https://imengine.prod.ntb.infomaker.io/?uuid=a9c4449b-eb8e-4f1f-a255-5f0f1f0f0043&amp;function=cover&amp;type=preview&amp;source=false&amp;q=75&amp;width=750\n",
      "[!] Error:: Invalid image, not saving https://imengine.prod.ntb.infomaker.io/?uuid=a9c4449b-eb8e-4f1f-a255-5f0f1f0f0043&amp;function=cover&amp;type=preview&amp;source=false&amp;q=75&amp;width=750\n",
      "\n",
      "[%] Downloading Image #54 from https://imengine.prod.ntb.infomaker.io/?uuid=4240016e-be33-4425-85f2-b7f9edaa11a1&amp;function=cover&amp;type=preview&amp;source=false&amp;q=75&amp;width=750\n",
      "[Error]Invalid image, not saving https://imengine.prod.ntb.infomaker.io/?uuid=4240016e-be33-4425-85f2-b7f9edaa11a1&amp;function=cover&amp;type=preview&amp;source=false&amp;q=75&amp;width=750\n",
      "\n",
      "[!] Issue getting: https://imengine.prod.ntb.infomaker.io/?uuid=4240016e-be33-4425-85f2-b7f9edaa11a1&amp;function=cover&amp;type=preview&amp;source=false&amp;q=75&amp;width=750\n",
      "[!] Error:: Invalid image, not saving https://imengine.prod.ntb.infomaker.io/?uuid=4240016e-be33-4425-85f2-b7f9edaa11a1&amp;function=cover&amp;type=preview&amp;source=false&amp;q=75&amp;width=750\n",
      "\n",
      "[%] Downloading Image #54 from https://thumbs.dreamstime.com/b/hockey-competition-vila-praia-de-ancora-portugal-may-match-adj-vila-praia-gulpilhares-against-nd-national-92583524.jpg\n",
      "[%] File Downloaded !\n",
      "\n",
      "[%] Downloading Image #55 from https://pbs.twimg.com/media/DFwLa7QVwAMmiKE.jpg\n",
      "[%] File Downloaded !\n",
      "\n",
      "[%] Downloading Image #56 from https://thumbs.dreamstime.com/b/youth-boys-hockey-tournament-team-celebrating-their-victory-112135085.jpg\n",
      "[%] File Downloaded !\n",
      "\n",
      "[%] Downloading Image #57 from https://thumbs.dreamstime.com/b/hockey-show-closing-ceremony-championship-moscow-apr-season-ice-sports-school-junior-teams-teams-30983511.jpg\n"
     ]
    },
    {
     "name": "stdout",
     "output_type": "stream",
     "text": [
      "[%] File Downloaded !\n",
      "\n",
      "[%] Downloading Image #58 from https://thumbs.dreamstime.com/b/hockey-goalie-gate-children-s-ice-team-russia-72146003.jpg\n",
      "[%] File Downloaded !\n",
      "\n",
      "[%] Downloading Image #59 from https://media.ktoo.org/2013/11/JDHS-hockey-21-736x452.jpg\n",
      "[%] File Downloaded !\n",
      "\n",
      "[%] Downloading Image #60 from https://i.pinimg.com/originals/1b/a4/04/1ba40495818c675f591d0a87fd8833dc.jpg\n",
      "[%] File Downloaded !\n",
      "\n",
      "\n",
      "\n",
      "[%] Done. Downloaded 60 images.\n",
      "===============================================\n",
      "\n",
      "Please show your support here\n",
      "https://www.buymeacoffee.com/gurugaurav\n",
      "\n",
      "===============================================\n",
      "\n"
     ]
    }
   ],
   "source": [
    "from bing_image_downloader import downloader\n",
    "downloader.download(\"field hockey goalie\",\n",
    "                    limit=60,\n",
    "                    output_dir=\"FieldHockeyGoalie\",\n",
    "                    adult_filter_off=True,\n",
    "                    force_replace=False,\n",
    "                    timeout=60,\n",
    "                    verbose=False)"
   ]
  },
  {
   "cell_type": "markdown",
   "metadata": {},
   "source": [
    "## Installing LabelImg"
   ]
  },
  {
   "cell_type": "markdown",
   "metadata": {},
   "source": [
    "https://pypi.org/project/labelImg/"
   ]
  },
  {
   "cell_type": "code",
   "execution_count": 10,
   "metadata": {},
   "outputs": [
    {
     "name": "stdout",
     "output_type": "stream",
     "text": [
      "Requirement already satisfied: labelImg in /home/efeozkaya/anaconda3/lib/python3.8/site-packages (1.8.5)\n",
      "Requirement already satisfied: lxml in /home/efeozkaya/anaconda3/lib/python3.8/site-packages (from labelImg) (4.6.1)\n",
      "Requirement already satisfied: pyqt5 in /home/efeozkaya/anaconda3/lib/python3.8/site-packages (from labelImg) (5.15.4)\n",
      "Requirement already satisfied: PyQt5-sip<13,>=12.8 in /home/efeozkaya/anaconda3/lib/python3.8/site-packages (from pyqt5->labelImg) (12.8.1)\n",
      "Requirement already satisfied: PyQt5-Qt5>=5.15 in /home/efeozkaya/anaconda3/lib/python3.8/site-packages (from pyqt5->labelImg) (5.15.2)\n"
     ]
    }
   ],
   "source": [
    "!pip3 install labelImg"
   ]
  },
  {
   "cell_type": "code",
   "execution_count": 12,
   "metadata": {},
   "outputs": [],
   "source": [
    "!labelImg"
   ]
  },
  {
   "cell_type": "markdown",
   "metadata": {},
   "source": [
    "## Video downloading"
   ]
  },
  {
   "cell_type": "markdown",
   "metadata": {},
   "source": [
    "https://pypi.org/project/youtube-search-python/"
   ]
  },
  {
   "cell_type": "code",
   "execution_count": 56,
   "metadata": {},
   "outputs": [
    {
     "name": "stdout",
     "output_type": "stream",
     "text": [
      "Collecting youtube-search-python\n",
      "  Downloading youtube_search_python-1.4.5-py3-none-any.whl (69 kB)\n",
      "\u001b[K     |████████████████████████████████| 69 kB 639 kB/s eta 0:00:011\n",
      "\u001b[?25hCollecting httpx\n",
      "  Downloading httpx-0.18.1-py3-none-any.whl (75 kB)\n",
      "\u001b[K     |████████████████████████████████| 75 kB 691 kB/s eta 0:00:011\n",
      "\u001b[?25hCollecting httpcore<0.14.0,>=0.13.0\n",
      "  Downloading httpcore-0.13.3-py3-none-any.whl (57 kB)\n",
      "\u001b[K     |████████████████████████████████| 57 kB 1.9 MB/s eta 0:00:011\n",
      "\u001b[?25hCollecting sniffio\n",
      "  Downloading sniffio-1.2.0-py3-none-any.whl (10 kB)\n",
      "Requirement already satisfied: certifi in /home/efeozkaya/anaconda3/lib/python3.8/site-packages (from httpx->youtube-search-python) (2020.6.20)\n",
      "Collecting rfc3986[idna2008]<2,>=1.3\n",
      "  Downloading rfc3986-1.5.0-py2.py3-none-any.whl (31 kB)\n",
      "Collecting h11<0.13,>=0.11\n",
      "  Downloading h11-0.12.0-py3-none-any.whl (54 kB)\n",
      "\u001b[K     |████████████████████████████████| 54 kB 640 kB/s eta 0:00:01\n",
      "\u001b[?25hRequirement already satisfied: idna; extra == \"idna2008\" in /home/efeozkaya/anaconda3/lib/python3.8/site-packages (from rfc3986[idna2008]<2,>=1.3->httpx->youtube-search-python) (2.10)\n",
      "Installing collected packages: sniffio, h11, httpcore, rfc3986, httpx, youtube-search-python\n",
      "Successfully installed h11-0.12.0 httpcore-0.13.3 httpx-0.18.1 rfc3986-1.5.0 sniffio-1.2.0 youtube-search-python-1.4.5\n"
     ]
    }
   ],
   "source": [
    "!pip3 install youtube-search-python"
   ]
  },
  {
   "cell_type": "code",
   "execution_count": 93,
   "metadata": {
    "scrolled": true
   },
   "outputs": [
    {
     "name": "stdout",
     "output_type": "stream",
     "text": [
      "{'result': [{'type': 'video', 'id': 'zFJpjBQinzQ', 'title': 'Ultimate Field Hockey Goalkeeper Saves of 2019 [Part 1]', 'publishedTime': '1 year ago', 'duration': '10:12', 'viewCount': {'text': '46,790 views', 'short': '46K views'}, 'thumbnails': [{'url': 'https://i.ytimg.com/vi/zFJpjBQinzQ/hqdefault.jpg?sqp=-oaymwEcCOADEI4CSFXyq4qpAw4IARUAAIhCGAFwAcABBg==&rs=AOn4CLDp92VUPDYXtJNlMDwO0gXcXDN2Wg', 'width': 480, 'height': 270}], 'richThumbnail': {'url': 'https://i.ytimg.com/an_webp/zFJpjBQinzQ/mqdefault_6s.webp?du=3000&sqp=CMC0_oUG&rs=AOn4CLBgl3VDnTLUI04yx6KNQMhMWjGo5A', 'width': 320, 'height': 180}, 'descriptionSnippet': [{'text': \"Hello, in today's video I will be showing you some of my favourite \"}, {'text': 'field hockey', 'bold': True}, {'text': ' goalkeeper saves of 2019. These include saves\\xa0...'}], 'channel': {'name': 'Love Hockey', 'id': 'UCJRkOuUrtPxTX0VxvEDn3WQ', 'thumbnails': [{'url': 'https://yt3.ggpht.com/ytc/AAUvwnhQ0qJsDeIf0zcBnLwjA37jXG8WZX0VIgmjo9pR=s68-c-k-c0x00ffffff-no-rj', 'width': 68, 'height': 68}], 'link': 'https://www.youtube.com/channel/UCJRkOuUrtPxTX0VxvEDn3WQ'}, 'accessibility': {'title': 'Ultimate Field Hockey Goalkeeper Saves of 2019 [Part 1] by Love Hockey 1 year ago 10 minutes, 12 seconds 46,790 views', 'duration': '10 minutes, 12 seconds'}, 'link': 'https://www.youtube.com/watch?v=zFJpjBQinzQ', 'shelfTitle': None}, {'type': 'video', 'id': 'DU1LspK3GFo', 'title': 'Incredible Field Hockey Saves', 'publishedTime': '1 year ago', 'duration': '4:08', 'viewCount': {'text': '11,890 views', 'short': '11K views'}, 'thumbnails': [{'url': 'https://i.ytimg.com/vi/DU1LspK3GFo/hq720.jpg?sqp=-oaymwEcCOgCEMoBSFXyq4qpAw4IARUAAIhCGAFwAcABBg==&rs=AOn4CLAWg7hTBTlzq2tCifquF9TBpy_yJQ', 'width': 360, 'height': 202}, {'url': 'https://i.ytimg.com/vi/DU1LspK3GFo/hq720.jpg?sqp=-oaymwEcCNAFEJQDSFXyq4qpAw4IARUAAIhCGAFwAcABBg==&rs=AOn4CLBBUIR6WFwThbi9qtSUIUAdaWf0iQ', 'width': 720, 'height': 404}], 'richThumbnail': {'url': 'https://i.ytimg.com/an_webp/DU1LspK3GFo/mqdefault_6s.webp?du=3000&sqp=CLig_oUG&rs=AOn4CLBNxu-n1rM2nbBgbIXkKIEVz3UgMw', 'width': 320, 'height': 180}, 'descriptionSnippet': [{'text': 'Goalkeepers', 'bold': True}, {'text': \" are arguably the most important player of any team, yet we sometimes forget about them and don't give them the\\xa0...\"}], 'channel': {'name': 'FieldHockeyTube', 'id': 'UCvXPRqThXMHUhVz08dtyAgw', 'thumbnails': [{'url': 'https://yt3.ggpht.com/ytc/AAUvwni-U0p2K1pacIVmsW2KLpDYAuj9zfKvye1cj28-uw=s68-c-k-c0x00ffffff-no-rj', 'width': 68, 'height': 68}], 'link': 'https://www.youtube.com/channel/UCvXPRqThXMHUhVz08dtyAgw'}, 'accessibility': {'title': 'Incredible Field Hockey Saves by FieldHockeyTube 1 year ago 4 minutes, 8 seconds 11,890 views', 'duration': '4 minutes, 8 seconds'}, 'link': 'https://www.youtube.com/watch?v=DU1LspK3GFo', 'shelfTitle': None}, {'type': 'video', 'id': 'cGQpXJEKje4', 'title': 'Field Hockey Goalkeeper Diving - Goalkeeper Technique | HockeyheroesTV', 'publishedTime': '3 years ago', 'duration': '8:56', 'viewCount': {'text': '49,033 views', 'short': '49K views'}, 'thumbnails': [{'url': 'https://i.ytimg.com/vi/cGQpXJEKje4/hq720.jpg?sqp=-oaymwEcCOgCEMoBSFXyq4qpAw4IARUAAIhCGAFwAcABBg==&rs=AOn4CLAN5pNILJaK5o4nY-eT2TghOyKSug', 'width': 360, 'height': 202}, {'url': 'https://i.ytimg.com/vi/cGQpXJEKje4/hq720.jpg?sqp=-oaymwEcCNAFEJQDSFXyq4qpAw4IARUAAIhCGAFwAcABBg==&rs=AOn4CLD9SOlX34sjQTT_5lxUTuGxLHYzUA', 'width': 720, 'height': 404}], 'richThumbnail': {'url': 'https://i.ytimg.com/an_webp/cGQpXJEKje4/mqdefault_6s.webp?du=3000&sqp=CLiT_oUG&rs=AOn4CLBhtaNNpVUSMi3GQ4IqIlXEXOpq_w', 'width': 320, 'height': 180}, 'descriptionSnippet': [{'text': 'Dennis explains how to dive as a '}, {'text': 'field hockey goalie', 'bold': True}, {'text': '. Lets see how he does that. Free subscribing to this channel:\\xa0...'}], 'channel': {'name': 'Hockey Heroes TV', 'id': 'UCxtyEQvhOiNcJjJZi-O5RFQ', 'thumbnails': [{'url': 'https://yt3.ggpht.com/ytc/AAUvwngMB_mzH3asCbr-Ks9ARIXKlFwum7XtdV8Vg09tAQ=s68-c-k-c0x00ffffff-no-rj', 'width': 68, 'height': 68}], 'link': 'https://www.youtube.com/channel/UCxtyEQvhOiNcJjJZi-O5RFQ'}, 'accessibility': {'title': 'Field Hockey Goalkeeper Diving - Goalkeeper Technique | HockeyheroesTV by Hockey Heroes TV 3 years ago 8 minutes, 56 seconds 49,033 views', 'duration': '8 minutes, 56 seconds'}, 'link': 'https://www.youtube.com/watch?v=cGQpXJEKje4', 'shelfTitle': None}, {'type': 'video', 'id': 'sjUfLUft-OY', 'title': 'Field Hockey Goalie Life', 'publishedTime': '6 years ago', 'duration': '8:06', 'viewCount': {'text': '34,730 views', 'short': '34K views'}, 'thumbnails': [{'url': 'https://i.ytimg.com/vi/sjUfLUft-OY/hq720.jpg?sqp=-oaymwEcCOgCEMoBSFXyq4qpAw4IARUAAIhCGAFwAcABBg==&rs=AOn4CLBEC7buYleL7gXXX0OkoUrs7p4-vQ', 'width': 360, 'height': 202}, {'url': 'https://i.ytimg.com/vi/sjUfLUft-OY/hq720.jpg?sqp=-oaymwEcCNAFEJQDSFXyq4qpAw4IARUAAIhCGAFwAcABBg==&rs=AOn4CLCCjVMULhA9sqSmZJX78kfQCcZijQ', 'width': 720, 'height': 404}], 'richThumbnail': {'url': 'https://i.ytimg.com/an_webp/sjUfLUft-OY/mqdefault_6s.webp?du=3000&sqp=CKan_oUG&rs=AOn4CLCb9oXsDkETYh3xfRBR4feyAgvjeQ', 'width': 320, 'height': 180}, 'descriptionSnippet': [{'text': 'The life of a Bellarmine '}, {'text': 'Field hockey', 'bold': True}, {'text': ' player.'}], 'channel': {'name': 'Bellarmine Athletics', 'id': 'UCBbJejKpRiGS4eMXms5IDbw', 'thumbnails': [{'url': 'https://yt3.ggpht.com/1SiWx0yNgC8DEBlKkELtES3Y9PsuTrh1wbLRhNS6SXj9jMo83ibyQZRJCNGroreyDC2dN5ulrA=s68-c-k-c0x00ffffff-no-rj', 'width': 68, 'height': 68}], 'link': 'https://www.youtube.com/channel/UCBbJejKpRiGS4eMXms5IDbw'}, 'accessibility': {'title': 'Field Hockey Goalie Life by Bellarmine Athletics 6 years ago 8 minutes, 6 seconds 34,730 views', 'duration': '8 minutes, 6 seconds'}, 'link': 'https://www.youtube.com/watch?v=sjUfLUft-OY', 'shelfTitle': None}, {'type': 'video', 'id': 'bPfu7dKJWWw', 'title': 'Goalie Tutorial: How to get up faster | Hockey Heroes TV', 'publishedTime': '1 year ago', 'duration': '7:09', 'viewCount': {'text': '13,961 views', 'short': '13K views'}, 'thumbnails': [{'url': 'https://i.ytimg.com/vi/bPfu7dKJWWw/hq720.jpg?sqp=-oaymwEcCOgCEMoBSFXyq4qpAw4IARUAAIhCGAFwAcABBg==&rs=AOn4CLAYG5EhivtAC80HzwZ6QeqGlw9hcg', 'width': 360, 'height': 202}, {'url': 'https://i.ytimg.com/vi/bPfu7dKJWWw/hq720.jpg?sqp=-oaymwEcCNAFEJQDSFXyq4qpAw4IARUAAIhCGAFwAcABBg==&rs=AOn4CLCSPsrZ5fBCHD8W-7HV_5a6U3JsWQ', 'width': 720, 'height': 404}], 'richThumbnail': {'url': 'https://i.ytimg.com/an_webp/bPfu7dKJWWw/mqdefault_6s.webp?du=3000&sqp=CMiN_oUG&rs=AOn4CLAmYGXDuybA3mxcl5K67hb-DlnxNQ', 'width': 320, 'height': 180}, 'descriptionSnippet': [{'text': 'Dennis explains how to get up faster for '}, {'text': 'goalkeepers', 'bold': True}, {'text': '. Makes it very easy! Free subscribing to this channel:\\xa0...'}], 'channel': {'name': 'Hockey Heroes TV', 'id': 'UCxtyEQvhOiNcJjJZi-O5RFQ', 'thumbnails': [{'url': 'https://yt3.ggpht.com/ytc/AAUvwngMB_mzH3asCbr-Ks9ARIXKlFwum7XtdV8Vg09tAQ=s68-c-k-c0x00ffffff-no-rj', 'width': 68, 'height': 68}], 'link': 'https://www.youtube.com/channel/UCxtyEQvhOiNcJjJZi-O5RFQ'}, 'accessibility': {'title': 'Goalie Tutorial: How to get up faster | Hockey Heroes TV by Hockey Heroes TV 1 year ago 7 minutes, 9 seconds 13,961 views', 'duration': '7 minutes, 9 seconds'}, 'link': 'https://www.youtube.com/watch?v=bPfu7dKJWWw', 'shelfTitle': None}]}\n"
     ]
    }
   ],
   "source": [
    "from youtubesearchpython import VideosSearch\n",
    "#put the keyword and amount of video to be find\n",
    "videosSearch = VideosSearch('field hockey goalie', limit = 5)\n",
    "\n",
    "print(videosSearch.result())"
   ]
  },
  {
   "cell_type": "code",
   "execution_count": 95,
   "metadata": {},
   "outputs": [
    {
     "name": "stdout",
     "output_type": "stream",
     "text": [
      "<class 'dict'>\n",
      "dict_keys(['result'])\n",
      "1\n"
     ]
    }
   ],
   "source": [
    "#initially we have a dictionary with a single key named 'results'\n",
    "data =videosSearch.result()\n",
    "print(type(data))\n",
    "print(data.keys())\n",
    "print(len(data))"
   ]
  },
  {
   "cell_type": "code",
   "execution_count": 99,
   "metadata": {},
   "outputs": [
    {
     "name": "stdout",
     "output_type": "stream",
     "text": [
      "<class 'list'>\n",
      "5\n",
      "{'type': 'video', 'id': 'zFJpjBQinzQ', 'title': 'Ultimate Field Hockey Goalkeeper Saves of 2019 [Part 1]', 'publishedTime': '1 year ago', 'duration': '10:12', 'viewCount': {'text': '46,790 views', 'short': '46K views'}, 'thumbnails': [{'url': 'https://i.ytimg.com/vi/zFJpjBQinzQ/hqdefault.jpg?sqp=-oaymwEcCOADEI4CSFXyq4qpAw4IARUAAIhCGAFwAcABBg==&rs=AOn4CLDp92VUPDYXtJNlMDwO0gXcXDN2Wg', 'width': 480, 'height': 270}], 'richThumbnail': {'url': 'https://i.ytimg.com/an_webp/zFJpjBQinzQ/mqdefault_6s.webp?du=3000&sqp=CMC0_oUG&rs=AOn4CLBgl3VDnTLUI04yx6KNQMhMWjGo5A', 'width': 320, 'height': 180}, 'descriptionSnippet': [{'text': \"Hello, in today's video I will be showing you some of my favourite \"}, {'text': 'field hockey', 'bold': True}, {'text': ' goalkeeper saves of 2019. These include saves\\xa0...'}], 'channel': {'name': 'Love Hockey', 'id': 'UCJRkOuUrtPxTX0VxvEDn3WQ', 'thumbnails': [{'url': 'https://yt3.ggpht.com/ytc/AAUvwnhQ0qJsDeIf0zcBnLwjA37jXG8WZX0VIgmjo9pR=s68-c-k-c0x00ffffff-no-rj', 'width': 68, 'height': 68}], 'link': 'https://www.youtube.com/channel/UCJRkOuUrtPxTX0VxvEDn3WQ'}, 'accessibility': {'title': 'Ultimate Field Hockey Goalkeeper Saves of 2019 [Part 1] by Love Hockey 1 year ago 10 minutes, 12 seconds 46,790 views', 'duration': '10 minutes, 12 seconds'}, 'link': 'https://www.youtube.com/watch?v=zFJpjBQinzQ', 'shelfTitle': None}\n",
      "\n",
      "\n",
      "{'type': 'video', 'id': 'DU1LspK3GFo', 'title': 'Incredible Field Hockey Saves', 'publishedTime': '1 year ago', 'duration': '4:08', 'viewCount': {'text': '11,890 views', 'short': '11K views'}, 'thumbnails': [{'url': 'https://i.ytimg.com/vi/DU1LspK3GFo/hq720.jpg?sqp=-oaymwEcCOgCEMoBSFXyq4qpAw4IARUAAIhCGAFwAcABBg==&rs=AOn4CLAWg7hTBTlzq2tCifquF9TBpy_yJQ', 'width': 360, 'height': 202}, {'url': 'https://i.ytimg.com/vi/DU1LspK3GFo/hq720.jpg?sqp=-oaymwEcCNAFEJQDSFXyq4qpAw4IARUAAIhCGAFwAcABBg==&rs=AOn4CLBBUIR6WFwThbi9qtSUIUAdaWf0iQ', 'width': 720, 'height': 404}], 'richThumbnail': {'url': 'https://i.ytimg.com/an_webp/DU1LspK3GFo/mqdefault_6s.webp?du=3000&sqp=CLig_oUG&rs=AOn4CLBNxu-n1rM2nbBgbIXkKIEVz3UgMw', 'width': 320, 'height': 180}, 'descriptionSnippet': [{'text': 'Goalkeepers', 'bold': True}, {'text': \" are arguably the most important player of any team, yet we sometimes forget about them and don't give them the\\xa0...\"}], 'channel': {'name': 'FieldHockeyTube', 'id': 'UCvXPRqThXMHUhVz08dtyAgw', 'thumbnails': [{'url': 'https://yt3.ggpht.com/ytc/AAUvwni-U0p2K1pacIVmsW2KLpDYAuj9zfKvye1cj28-uw=s68-c-k-c0x00ffffff-no-rj', 'width': 68, 'height': 68}], 'link': 'https://www.youtube.com/channel/UCvXPRqThXMHUhVz08dtyAgw'}, 'accessibility': {'title': 'Incredible Field Hockey Saves by FieldHockeyTube 1 year ago 4 minutes, 8 seconds 11,890 views', 'duration': '4 minutes, 8 seconds'}, 'link': 'https://www.youtube.com/watch?v=DU1LspK3GFo', 'shelfTitle': None}\n",
      "\n",
      "\n",
      "{'type': 'video', 'id': 'cGQpXJEKje4', 'title': 'Field Hockey Goalkeeper Diving - Goalkeeper Technique | HockeyheroesTV', 'publishedTime': '3 years ago', 'duration': '8:56', 'viewCount': {'text': '49,033 views', 'short': '49K views'}, 'thumbnails': [{'url': 'https://i.ytimg.com/vi/cGQpXJEKje4/hq720.jpg?sqp=-oaymwEcCOgCEMoBSFXyq4qpAw4IARUAAIhCGAFwAcABBg==&rs=AOn4CLAN5pNILJaK5o4nY-eT2TghOyKSug', 'width': 360, 'height': 202}, {'url': 'https://i.ytimg.com/vi/cGQpXJEKje4/hq720.jpg?sqp=-oaymwEcCNAFEJQDSFXyq4qpAw4IARUAAIhCGAFwAcABBg==&rs=AOn4CLD9SOlX34sjQTT_5lxUTuGxLHYzUA', 'width': 720, 'height': 404}], 'richThumbnail': {'url': 'https://i.ytimg.com/an_webp/cGQpXJEKje4/mqdefault_6s.webp?du=3000&sqp=CLiT_oUG&rs=AOn4CLBhtaNNpVUSMi3GQ4IqIlXEXOpq_w', 'width': 320, 'height': 180}, 'descriptionSnippet': [{'text': 'Dennis explains how to dive as a '}, {'text': 'field hockey goalie', 'bold': True}, {'text': '. Lets see how he does that. Free subscribing to this channel:\\xa0...'}], 'channel': {'name': 'Hockey Heroes TV', 'id': 'UCxtyEQvhOiNcJjJZi-O5RFQ', 'thumbnails': [{'url': 'https://yt3.ggpht.com/ytc/AAUvwngMB_mzH3asCbr-Ks9ARIXKlFwum7XtdV8Vg09tAQ=s68-c-k-c0x00ffffff-no-rj', 'width': 68, 'height': 68}], 'link': 'https://www.youtube.com/channel/UCxtyEQvhOiNcJjJZi-O5RFQ'}, 'accessibility': {'title': 'Field Hockey Goalkeeper Diving - Goalkeeper Technique | HockeyheroesTV by Hockey Heroes TV 3 years ago 8 minutes, 56 seconds 49,033 views', 'duration': '8 minutes, 56 seconds'}, 'link': 'https://www.youtube.com/watch?v=cGQpXJEKje4', 'shelfTitle': None}\n",
      "\n",
      "\n",
      "{'type': 'video', 'id': 'sjUfLUft-OY', 'title': 'Field Hockey Goalie Life', 'publishedTime': '6 years ago', 'duration': '8:06', 'viewCount': {'text': '34,730 views', 'short': '34K views'}, 'thumbnails': [{'url': 'https://i.ytimg.com/vi/sjUfLUft-OY/hq720.jpg?sqp=-oaymwEcCOgCEMoBSFXyq4qpAw4IARUAAIhCGAFwAcABBg==&rs=AOn4CLBEC7buYleL7gXXX0OkoUrs7p4-vQ', 'width': 360, 'height': 202}, {'url': 'https://i.ytimg.com/vi/sjUfLUft-OY/hq720.jpg?sqp=-oaymwEcCNAFEJQDSFXyq4qpAw4IARUAAIhCGAFwAcABBg==&rs=AOn4CLCCjVMULhA9sqSmZJX78kfQCcZijQ', 'width': 720, 'height': 404}], 'richThumbnail': {'url': 'https://i.ytimg.com/an_webp/sjUfLUft-OY/mqdefault_6s.webp?du=3000&sqp=CKan_oUG&rs=AOn4CLCb9oXsDkETYh3xfRBR4feyAgvjeQ', 'width': 320, 'height': 180}, 'descriptionSnippet': [{'text': 'The life of a Bellarmine '}, {'text': 'Field hockey', 'bold': True}, {'text': ' player.'}], 'channel': {'name': 'Bellarmine Athletics', 'id': 'UCBbJejKpRiGS4eMXms5IDbw', 'thumbnails': [{'url': 'https://yt3.ggpht.com/1SiWx0yNgC8DEBlKkELtES3Y9PsuTrh1wbLRhNS6SXj9jMo83ibyQZRJCNGroreyDC2dN5ulrA=s68-c-k-c0x00ffffff-no-rj', 'width': 68, 'height': 68}], 'link': 'https://www.youtube.com/channel/UCBbJejKpRiGS4eMXms5IDbw'}, 'accessibility': {'title': 'Field Hockey Goalie Life by Bellarmine Athletics 6 years ago 8 minutes, 6 seconds 34,730 views', 'duration': '8 minutes, 6 seconds'}, 'link': 'https://www.youtube.com/watch?v=sjUfLUft-OY', 'shelfTitle': None}\n",
      "\n",
      "\n",
      "{'type': 'video', 'id': 'bPfu7dKJWWw', 'title': 'Goalie Tutorial: How to get up faster | Hockey Heroes TV', 'publishedTime': '1 year ago', 'duration': '7:09', 'viewCount': {'text': '13,961 views', 'short': '13K views'}, 'thumbnails': [{'url': 'https://i.ytimg.com/vi/bPfu7dKJWWw/hq720.jpg?sqp=-oaymwEcCOgCEMoBSFXyq4qpAw4IARUAAIhCGAFwAcABBg==&rs=AOn4CLAYG5EhivtAC80HzwZ6QeqGlw9hcg', 'width': 360, 'height': 202}, {'url': 'https://i.ytimg.com/vi/bPfu7dKJWWw/hq720.jpg?sqp=-oaymwEcCNAFEJQDSFXyq4qpAw4IARUAAIhCGAFwAcABBg==&rs=AOn4CLCSPsrZ5fBCHD8W-7HV_5a6U3JsWQ', 'width': 720, 'height': 404}], 'richThumbnail': {'url': 'https://i.ytimg.com/an_webp/bPfu7dKJWWw/mqdefault_6s.webp?du=3000&sqp=CMiN_oUG&rs=AOn4CLAmYGXDuybA3mxcl5K67hb-DlnxNQ', 'width': 320, 'height': 180}, 'descriptionSnippet': [{'text': 'Dennis explains how to get up faster for '}, {'text': 'goalkeepers', 'bold': True}, {'text': '. Makes it very easy! Free subscribing to this channel:\\xa0...'}], 'channel': {'name': 'Hockey Heroes TV', 'id': 'UCxtyEQvhOiNcJjJZi-O5RFQ', 'thumbnails': [{'url': 'https://yt3.ggpht.com/ytc/AAUvwngMB_mzH3asCbr-Ks9ARIXKlFwum7XtdV8Vg09tAQ=s68-c-k-c0x00ffffff-no-rj', 'width': 68, 'height': 68}], 'link': 'https://www.youtube.com/channel/UCxtyEQvhOiNcJjJZi-O5RFQ'}, 'accessibility': {'title': 'Goalie Tutorial: How to get up faster | Hockey Heroes TV by Hockey Heroes TV 1 year ago 7 minutes, 9 seconds 13,961 views', 'duration': '7 minutes, 9 seconds'}, 'link': 'https://www.youtube.com/watch?v=bPfu7dKJWWw', 'shelfTitle': None}\n",
      "\n",
      "\n",
      "dict_keys(['type', 'id', 'title', 'publishedTime', 'duration', 'viewCount', 'thumbnails', 'richThumbnail', 'descriptionSnippet', 'channel', 'accessibility', 'link', 'shelfTitle'])\n"
     ]
    }
   ],
   "source": [
    "#when we access to values corresponding to this key\n",
    "#we get a list\n",
    "print(type(data['result']))\n",
    "\n",
    "#length of the list\n",
    "print(len(data['result']))\n",
    "\n",
    "#iterate through list elements\n",
    "for i in range(len(data['result'])):\n",
    "    print(data['result'][i])\n",
    "    print('\\n')\n",
    "    \n",
    "#the list contains 5 dictionaries\n",
    "#access to the keys of a dictionary that is an element of this list by\n",
    "print(data['result'][1].keys())"
   ]
  },
  {
   "cell_type": "code",
   "execution_count": 103,
   "metadata": {},
   "outputs": [
    {
     "name": "stdout",
     "output_type": "stream",
     "text": [
      "\n",
      "\n",
      "https://www.youtube.com/watch?v=zFJpjBQinzQ\n",
      "\n",
      "\n",
      "https://www.youtube.com/watch?v=DU1LspK3GFo\n",
      "\n",
      "\n",
      "https://www.youtube.com/watch?v=cGQpXJEKje4\n",
      "\n",
      "\n",
      "https://www.youtube.com/watch?v=sjUfLUft-OY\n",
      "\n",
      "\n",
      "https://www.youtube.com/watch?v=bPfu7dKJWWw\n",
      "['https://www.youtube.com/watch?v=zFJpjBQinzQ', 'https://www.youtube.com/watch?v=DU1LspK3GFo', 'https://www.youtube.com/watch?v=cGQpXJEKje4', 'https://www.youtube.com/watch?v=sjUfLUft-OY', 'https://www.youtube.com/watch?v=bPfu7dKJWWw']\n"
     ]
    }
   ],
   "source": [
    "#create an empty list\n",
    "list_of_links=[]\n",
    "\n",
    "\n",
    "for i in range(len(data['result'])):\n",
    "    print('\\n')\n",
    "    print(data['result'][i]['link'])\n",
    "    \n",
    "    #include each link to the empty list as you iterate\n",
    "    list_of_links.append(data['result'][i]['link'])\n",
    "    \n",
    "#your new list with links being its elements   \n",
    "print(list_of_links)"
   ]
  },
  {
   "cell_type": "markdown",
   "metadata": {},
   "source": [
    "https://pypi.org/project/tube-dl/"
   ]
  },
  {
   "cell_type": "code",
   "execution_count": 123,
   "metadata": {
    "scrolled": true
   },
   "outputs": [
    {
     "name": "stdout",
     "output_type": "stream",
     "text": [
      "Collecting tube-dl\n",
      "  Downloading tube_dl-5.1.0-py3-none-any.whl (16 kB)\n",
      "Requirement already satisfied: requests in /home/efeozkaya/anaconda3/lib/python3.8/site-packages (from tube-dl) (2.24.0)\n",
      "Collecting js2py\n",
      "  Downloading Js2Py-0.71-py3-none-any.whl (1.0 MB)\n",
      "\u001b[K     |████████████████████████████████| 1.0 MB 2.4 MB/s eta 0:00:01\n",
      "\u001b[?25hRequirement already satisfied: certifi>=2017.4.17 in /home/efeozkaya/anaconda3/lib/python3.8/site-packages (from requests->tube-dl) (2020.6.20)\n",
      "Requirement already satisfied: idna<3,>=2.5 in /home/efeozkaya/anaconda3/lib/python3.8/site-packages (from requests->tube-dl) (2.10)\n",
      "Requirement already satisfied: chardet<4,>=3.0.2 in /home/efeozkaya/anaconda3/lib/python3.8/site-packages (from requests->tube-dl) (3.0.4)\n",
      "Requirement already satisfied: urllib3!=1.25.0,!=1.25.1,<1.26,>=1.21.1 in /home/efeozkaya/anaconda3/lib/python3.8/site-packages (from requests->tube-dl) (1.25.11)\n",
      "Collecting tzlocal>=1.2\n",
      "  Downloading tzlocal-2.1-py2.py3-none-any.whl (16 kB)\n",
      "Requirement already satisfied: six>=1.10 in /home/efeozkaya/anaconda3/lib/python3.8/site-packages (from js2py->tube-dl) (1.15.0)\n",
      "Collecting pyjsparser>=2.5.1\n",
      "  Downloading pyjsparser-2.7.1.tar.gz (24 kB)\n",
      "Requirement already satisfied: pytz in /home/efeozkaya/anaconda3/lib/python3.8/site-packages (from tzlocal>=1.2->js2py->tube-dl) (2020.1)\n",
      "Building wheels for collected packages: pyjsparser\n",
      "  Building wheel for pyjsparser (setup.py) ... \u001b[?25ldone\n",
      "\u001b[?25h  Created wheel for pyjsparser: filename=pyjsparser-2.7.1-py3-none-any.whl size=25998 sha256=be0eb2b2e39eb17234792b0e066e009516de925cd59a22431034610a656a8772\n",
      "  Stored in directory: /home/efeozkaya/.cache/pip/wheels/d5/88/34/ccb5bb40eb3178a134eb293e6c363928c5bcfba0b91031db76\n",
      "Successfully built pyjsparser\n",
      "Installing collected packages: tzlocal, pyjsparser, js2py, tube-dl\n",
      "Successfully installed js2py-0.71 pyjsparser-2.7.1 tube-dl-5.1.0 tzlocal-2.1\n"
     ]
    }
   ],
   "source": [
    "!pip install tube-dl"
   ]
  },
  {
   "cell_type": "code",
   "execution_count": 120,
   "metadata": {},
   "outputs": [
    {
     "name": "stdout",
     "output_type": "stream",
     "text": [
      "/home/efeozkaya/Desktop\r\n"
     ]
    }
   ],
   "source": [
    "!pwd"
   ]
  },
  {
   "cell_type": "code",
   "execution_count": 128,
   "metadata": {},
   "outputs": [
    {
     "data": {
      "text/plain": [
       "< Output : Path=/home/efeozkaya/Desktop/Goalie Tutorial How to get up faster  Hockey Heroes TV.mp4 >"
      ]
     },
     "execution_count": 128,
     "metadata": {},
     "output_type": "execute_result"
    }
   ],
   "source": [
    "from tube_dl import Youtube\n",
    "import time\n",
    "yt = Youtube(list_of_links[4])\n",
    "yt.formats.first().download()"
   ]
  },
  {
   "cell_type": "code",
   "execution_count": 136,
   "metadata": {},
   "outputs": [
    {
     "name": "stdout",
     "output_type": "stream",
     "text": [
      "Title: Ultimate Field Hockey Goalkeeper Saves of 2019 [Part 1], Views: 47156, Likes: 518, Length: 611\n",
      "Title: Incredible Field Hockey Saves, Views: 12254, Likes: 309, Length: 247\n",
      "Title: Field Hockey Goalkeeper Diving - Goalkeeper Technique | HockeyheroesTV, Views: 49101, Likes: 840, Length: 535\n",
      "Title: Field Hockey Goalie Life, Views: 34745, Likes: 177, Length: 486\n",
      "Title: Goalie Tutorial: How to get up faster | Hockey Heroes TV, Views: 14099, Likes: 343, Length: 429\n"
     ]
    }
   ],
   "source": [
    "from tube_dl import Youtube\n",
    "import time\n",
    "\n",
    "for i in range(len(list_of_links)):\n",
    "\n",
    "    yt = Youtube(list_of_links[i])\n",
    "    print(\"Title: {}, Views: {}, Likes: {}, Length: {}\".format(\n",
    "        yt.title, yt.views, yt.likes, yt.length))\n",
    "    yt.formats.first().download()\n",
    "    #time.sleep(3)"
   ]
  },
  {
   "cell_type": "code",
   "execution_count": null,
   "metadata": {},
   "outputs": [],
   "source": []
  },
  {
   "cell_type": "code",
   "execution_count": null,
   "metadata": {},
   "outputs": [],
   "source": []
  }
 ],
 "metadata": {
  "kernelspec": {
   "display_name": "Python 3",
   "language": "python",
   "name": "python3"
  },
  "language_info": {
   "codemirror_mode": {
    "name": "ipython",
    "version": 3
   },
   "file_extension": ".py",
   "mimetype": "text/x-python",
   "name": "python",
   "nbconvert_exporter": "python",
   "pygments_lexer": "ipython3",
   "version": "3.8.5"
  }
 },
 "nbformat": 4,
 "nbformat_minor": 4
}
